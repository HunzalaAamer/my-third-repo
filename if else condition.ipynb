{
 "cells": [
  {
   "cell_type": "code",
   "execution_count": 3,
   "id": "b501fa50",
   "metadata": {},
   "outputs": [
    {
     "name": "stdout",
     "output_type": "stream",
     "text": [
      "Grade:A\n"
     ]
    }
   ],
   "source": [
    "marks = 100\n",
    "if  marks >=90:\n",
    "    print(\"Grade:A\")\n",
    "elif marks >=75:\n",
    "    print(\"Grade:B\")\n",
    "elif marks >=55:\n",
    "    print(\"Grade:C\")\n",
    "else:\n",
    "    print(\"Fail\")"
   ]
  }
 ],
 "metadata": {
  "kernelspec": {
   "display_name": "base",
   "language": "python",
   "name": "python3"
  },
  "language_info": {
   "codemirror_mode": {
    "name": "ipython",
    "version": 3
   },
   "file_extension": ".py",
   "mimetype": "text/x-python",
   "name": "python",
   "nbconvert_exporter": "python",
   "pygments_lexer": "ipython3",
   "version": "3.12.7"
  }
 },
 "nbformat": 4,
 "nbformat_minor": 5
}
