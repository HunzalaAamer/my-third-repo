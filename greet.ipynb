{
 "cells": [
  {
   "cell_type": "code",
   "execution_count": 24,
   "id": "399bf228",
   "metadata": {},
   "outputs": [],
   "source": [
    "def fruit(name):\n",
    "    print(f\"Eat, {name}! fruit.\") "
   ]
  },
  {
   "cell_type": "markdown",
   "id": "85f7bbec",
   "metadata": {},
   "source": [
    "## calling it"
   ]
  },
  {
   "cell_type": "code",
   "execution_count": 25,
   "id": "7155d322",
   "metadata": {},
   "outputs": [
    {
     "name": "stdout",
     "output_type": "stream",
     "text": [
      "Eat, Apple! fruit.\n"
     ]
    }
   ],
   "source": [
    "fruit(\"Apple\")"
   ]
  }
 ],
 "metadata": {
  "kernelspec": {
   "display_name": "base",
   "language": "python",
   "name": "python3"
  },
  "language_info": {
   "codemirror_mode": {
    "name": "ipython",
    "version": 3
   },
   "file_extension": ".py",
   "mimetype": "text/x-python",
   "name": "python",
   "nbconvert_exporter": "python",
   "pygments_lexer": "ipython3",
   "version": "3.12.7"
  }
 },
 "nbformat": 4,
 "nbformat_minor": 5
}
